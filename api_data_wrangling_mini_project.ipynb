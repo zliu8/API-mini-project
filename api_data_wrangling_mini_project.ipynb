{
  "nbformat": 4,
  "nbformat_minor": 0,
  "metadata": {
    "colab": {
      "name": "api_data_wrangling_mini_project.ipynb",
      "version": "0.3.2",
      "provenance": [],
      "collapsed_sections": [],
      "toc_visible": true
    },
    "kernelspec": {
      "display_name": "Python 3",
      "language": "python",
      "name": "python3"
    }
  },
  "cells": [
    {
      "metadata": {
        "id": "zybxpfSVxjG8",
        "colab_type": "text"
      },
      "cell_type": "markdown",
      "source": [
        "This exercise will require you to pull some data from the Qunadl API. Qaundl is currently the most widely used aggregator of financial market data."
      ]
    },
    {
      "metadata": {
        "id": "8xUOjLuixjG8",
        "colab_type": "text"
      },
      "cell_type": "markdown",
      "source": [
        "As a first step, you will need to register a free account on the http://www.quandl.com website."
      ]
    },
    {
      "metadata": {
        "id": "ieZZmJ6VxjG-",
        "colab_type": "text"
      },
      "cell_type": "markdown",
      "source": [
        "After you register, you will be provided with a unique API key, that you should store:"
      ]
    },
    {
      "metadata": {
        "id": "dEyeD1B0xjG-",
        "colab_type": "code",
        "colab": {}
      },
      "cell_type": "code",
      "source": [
        "# Store the API key as a string - according to PEP8, constants are always named in all upper case\n",
        "API_KEY = ''"
      ],
      "execution_count": 0,
      "outputs": []
    },
    {
      "metadata": {
        "id": "H2Xk5SXPxjHB",
        "colab_type": "text"
      },
      "cell_type": "markdown",
      "source": [
        "Qaundl has a large number of data sources, but, unfortunately, most of them require a Premium subscription. Still, there are also a good number of free datasets."
      ]
    },
    {
      "metadata": {
        "id": "GNQeX_UVxjHC",
        "colab_type": "text"
      },
      "cell_type": "markdown",
      "source": [
        "For this mini project, we will focus on equities data from the Frankfurt Stock Exhange (FSE), which is available for free. We'll try and analyze the stock prices of a company called Carl Zeiss Meditec, which manufactures tools for eye examinations, as well as medical lasers for laser eye surgery: https://www.zeiss.com/meditec/int/home.html. The company is listed under the stock ticker AFX_X."
      ]
    },
    {
      "metadata": {
        "id": "fXZekZ7pxjHE",
        "colab_type": "text"
      },
      "cell_type": "markdown",
      "source": [
        "You can find the detailed Quandl API instructions here: https://docs.quandl.com/docs/time-series"
      ]
    },
    {
      "metadata": {
        "id": "egBCLrnDxjHF",
        "colab_type": "text"
      },
      "cell_type": "markdown",
      "source": [
        "While there is a dedicated Python package for connecting to the Quandl API, we would prefer that you use the *requests* package, which can be easily downloaded using *pip* or *conda*. You can find the documentation for the package here: http://docs.python-requests.org/en/master/ "
      ]
    },
    {
      "metadata": {
        "id": "2p1s0e57xjHG",
        "colab_type": "text"
      },
      "cell_type": "markdown",
      "source": [
        "Finally, apart from the *requests* package, you are encouraged to not use any third party Python packages, such as *pandas*, and instead focus on what's available in the Python Standard Library (the *collections* module might come in handy: https://pymotw.com/3/collections/).\n",
        "Also, since you won't have access to DataFrames, you are encouraged to us Python's native data structures - preferably dictionaries, though some questions can also be answered using lists.\n",
        "You can read more on these data structures here: https://docs.python.org/3/tutorial/datastructures.html"
      ]
    },
    {
      "metadata": {
        "id": "k8LDd-gIxjHH",
        "colab_type": "text"
      },
      "cell_type": "markdown",
      "source": [
        "Keep in mind that the JSON responses you will be getting from the API map almost one-to-one to Python's dictionaries. Unfortunately, they can be very nested, so make sure you read up on indexing dictionaries in the documentation provided above."
      ]
    },
    {
      "metadata": {
        "id": "9-BSSINYxjHH",
        "colab_type": "code",
        "colab": {}
      },
      "cell_type": "code",
      "source": [
        "# First, import the relevant modules\n",
        "import requests\n",
        "\n"
      ],
      "execution_count": 0,
      "outputs": []
    },
    {
      "metadata": {
        "id": "2V6hUxskxjHK",
        "colab_type": "code",
        "colab": {
          "base_uri": "https://localhost:8080/",
          "height": 87
        },
        "outputId": "c783b8e0-b569-41bf-9b22-b9bba339e279"
      },
      "cell_type": "code",
      "source": [
        "# Now, call the Quandl API and pull out a small sample of the data (only one day) to get a glimpse\n",
        "# into the JSON structure that will be returned\n",
        "url=\"https://www.quandl.com/api/v3/datasets/FSE/AFX_X.json?&limit=1&api_key=\" \n",
        "r=requests.get(url)\n",
        "json_data=r.json()\n",
        "print(json_data)\n"
      ],
      "execution_count": 0,
      "outputs": [
        {
          "output_type": "stream",
          "text": [
            "{'dataset': {'id': 10095370, 'dataset_code': 'AFX_X', 'database_code': 'FSE', 'name': 'Carl Zeiss Meditec (AFX_X)', 'description': 'Stock Prices for Carl Zeiss Meditec (AFX) from the Frankfurt Stock Exchange.<br><br>Trading System: Xetra<br><br>ISIN: DE0005313704', 'refreshed_at': '2018-08-31T22:27:50.837Z', 'newest_available_date': '2018-08-31', 'oldest_available_date': '2000-06-07', 'column_names': ['Date', 'Open', 'High', 'Low', 'Close', 'Change', 'Traded Volume', 'Turnover', 'Last Price of the Day', 'Daily Traded Units', 'Daily Turnover'], 'frequency': 'daily', 'type': 'Time Series', 'premium': False, 'limit': 1, 'transform': None, 'column_index': None, 'start_date': '2000-06-07', 'end_date': '2018-08-31', 'data': [['2018-08-31', None, 76.55, 76.0, 76.3, None, 61684.0, 4707947.0, None, None, None]], 'collapse': None, 'order': None, 'database_id': 6129}}\n"
          ],
          "name": "stdout"
        }
      ]
    },
    {
      "metadata": {
        "id": "BgruV95MxjHM",
        "colab_type": "code",
        "colab": {
          "base_uri": "https://localhost:8080/",
          "height": 87
        },
        "outputId": "b09dada6-cc34-4048-b0ec-35224b06ccd5"
      },
      "cell_type": "code",
      "source": [
        "# Inspect the JSON structure of the object you created, and take note of how nested it is,\n",
        "# as well as the overall structure\n",
        "r.text"
      ],
      "execution_count": 0,
      "outputs": [
        {
          "output_type": "execute_result",
          "data": {
            "text/plain": [
              "'{\"dataset\":{\"id\":10095370,\"dataset_code\":\"AFX_X\",\"database_code\":\"FSE\",\"name\":\"Carl Zeiss Meditec (AFX_X)\",\"description\":\"Stock Prices for Carl Zeiss Meditec (AFX) from the Frankfurt Stock Exchange.\\\\u003cbr\\\\u003e\\\\u003cbr\\\\u003eTrading System: Xetra\\\\u003cbr\\\\u003e\\\\u003cbr\\\\u003eISIN: DE0005313704\",\"refreshed_at\":\"2018-08-31T22:27:50.837Z\",\"newest_available_date\":\"2018-08-31\",\"oldest_available_date\":\"2000-06-07\",\"column_names\":[\"Date\",\"Open\",\"High\",\"Low\",\"Close\",\"Change\",\"Traded Volume\",\"Turnover\",\"Last Price of the Day\",\"Daily Traded Units\",\"Daily Turnover\"],\"frequency\":\"daily\",\"type\":\"Time Series\",\"premium\":false,\"limit\":1,\"transform\":null,\"column_index\":null,\"start_date\":\"2000-06-07\",\"end_date\":\"2018-08-31\",\"data\":[[\"2018-08-31\",null,76.55,76.0,76.3,null,61684.0,4707947.0,null,null,null]],\"collapse\":null,\"order\":null,\"database_id\":6129}}'"
            ]
          },
          "metadata": {
            "tags": []
          },
          "execution_count": 10
        }
      ]
    },
    {
      "metadata": {
        "id": "2ZBwh08GxjHO",
        "colab_type": "text"
      },
      "cell_type": "markdown",
      "source": [
        "These are your tasks for this mini project:\n",
        "\n",
        "1. Collect data from the Franfurt Stock Exchange, for the ticker AFX_X, for the whole year 2017 (keep in mind that the date format is YYYY-MM-DD).\n",
        "2. Convert the returned JSON object into a Python dictionary.\n",
        "3. Calculate what the highest and lowest opening prices were for the stock in this period.\n",
        "4. What was the largest change in any one day (based on High and Low price)?\n",
        "5. What was the largest change between any two days (based on Closing Price)?\n",
        "6. What was the average daily trading volume during this year?\n",
        "7. (Optional) What was the median trading volume during this year. (Note: you may need to implement your own function for calculating the median.)"
      ]
    },
    {
      "metadata": {
        "id": "wrfEcIQaxjHP",
        "colab_type": "code",
        "colab": {
          "base_uri": "https://localhost:8080/",
          "height": 139
        },
        "outputId": "72a8b68e-560c-4825-836c-7d6a30610142"
      },
      "cell_type": "code",
      "source": [
        "\n",
        "####Task 1: Collect data from the Franfurt Stock Exchange, for the ticker AFX_X, for the whole year 2017 \n",
        "url = \"https://www.quandl.com/api/v3/datasets/FSE/AFX_X/data.json?\" + \\\n",
        "      \"&start_date=2017-01-01&end_date=2017-12-31&api_key=\"\n",
        "req = requests.get(url)\n",
        "####Task 2: convert the returned JSON object into a Python dictionary\n",
        "json_data = req.json()\n",
        "\n",
        "\n",
        "####Task 3: Calculate what the highest and lowest opening prices were for the stock in this period.\n",
        "\n",
        "open_dict = {row[0]: row[1] for row in json_data[\"dataset_data\"][\"data\"] if row[1] != None}\n",
        "open_max_date, open_max = max(open_dict.items(), key=lambda k: k[1])\n",
        "open_min_date, open_min = min(open_dict.items(), key=lambda k: k[1])\n",
        "\n",
        "print(\"The highest opening price in 2017 was ${0:.2f} per share and occured on {1}.\" \\\n",
        "      .format(round(open_max, 2), open_max_date))\n",
        "print(\"The lowest opening price in 2017 was ${0:.2f} per share and oocurred on {1}.\" \\\n",
        "      .format(round(open_min, 2), open_min_date))\n",
        "\n",
        "#####Task 4: What was the largest change in any one day (based on High and Low price)\n",
        "spread_dict = {row[0]: row[2] - row[3] for row in json_data[\"dataset_data\"][\"data\"]}\n",
        "spread_max_date, spread_max = max(spread_dict.items(), key=lambda k: k[1])\n",
        "\n",
        "print(\"The largest daily price spread in 2017 was {1}${0:.2f} per share and occurred on {2}.\" \\\n",
        "      .format(round(spread_max, 2), u'\\u0394', spread_max_date))\n",
        "#####Task 5： What was the largest change between any two days(based on Closing Price) \n",
        "close_delta_dict = {}\n",
        "close_prev =  json_data[\"dataset_data\"][\"data\"][0][4]\n",
        "\n",
        "for row in json_data[\"dataset_data\"][\"data\"][1:]:\n",
        "    close = row[4]\n",
        "    close_delta_dict[row[0]] = abs(close_prev - close)\n",
        "    close_prev = close\n",
        "\n",
        "close_delta_max_date, close_delta_max = max(close_delta_dict.items(), key=lambda k:k[1])\n",
        "\n",
        "print(\"The largest change between consecutive day closing prices in 2017 was {1}${0:.2f}\" \\\n",
        "      \" per share and occurred on {2}.\".format(round(close_delta_max, 2), u'\\u0394', \\\n",
        "                                               close_delta_max_date))\n",
        "######Task 6: What was the average daily trading volume during this year？\n",
        "volume = [row[6] for row in json_data[\"dataset_data\"][\"data\"]]\n",
        "vol_avg = sum(volume) / len(volume)\n",
        "\n",
        "print(\"The average daily traded volume for 2017 was {0:,} shares\".format(round(vol_avg, 1)))\n",
        "######Task 7: What was the median trading volume during this year.\n",
        "volume = [row[6] for row in json_data[\"dataset_data\"][\"data\"]]\n",
        "vol_sorted = sorted(volume)\n",
        "\n",
        "if len(volume) % 2 != 0:\n",
        "    vol_median = vol_sorted[len(volume) // 2]\n",
        "else:\n",
        "    vol_median = (vol_sorted[len(volume) // 2 - 1] + vol_sorted[len(volume) // 2]) / 2\n",
        "\n",
        "print(\"The median daily traded volume for 2017 was {0:,} shares\".format(round(vol_median, 1)))\n"
      ],
      "execution_count": 0,
      "outputs": [
        {
          "output_type": "stream",
          "text": [
            "The highest opening price in 2017 was $53.11 per share and occured on 2017-12-14.\n",
            "The lowest opening price in 2017 was $34.00 per share and oocurred on 2017-01-24.\n",
            "The largest daily price spread in 2017 was Δ$2.81 per share and occurred on 2017-05-11.\n",
            "The largest change between consecutive day closing prices in 2017 was Δ$2.56 per share and occurred on 2017-08-08.\n",
            "The average daily traded volume for 2017 was 89,124.3 shares\n",
            "The median daily traded volume for 2017 was 76,286.0 shares\n"
          ],
          "name": "stdout"
        }
      ]
    }
  ]
}